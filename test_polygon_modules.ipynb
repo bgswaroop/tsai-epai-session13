{
 "cells": [
  {
   "cell_type": "markdown",
   "metadata": {},
   "source": [
    "#### Set up the environment\n",
    "Download the polygon.py and the polygons_sequence.py files from the git repository\n"
   ]
  },
  {
   "cell_type": "code",
   "execution_count": null,
   "metadata": {
    "pycharm": {
     "name": "#%%\n"
    }
   },
   "outputs": [],
   "source": [
    "!pip install numpy\n",
    "!wget <fix-the-link1>\n",
    "!wget <fix-the-link2>"
   ]
  },
  {
   "cell_type": "markdown",
   "metadata": {
    "pycharm": {
     "name": "#%% md\n"
    }
   },
   "source": [
    "## Test the Polygon Class\n",
    "\n",
    "Test the __repr__ method:"
   ]
  },
  {
   "cell_type": "code",
   "execution_count": 1,
   "metadata": {
    "pycharm": {
     "is_executing": false,
     "name": "#%%\n"
    }
   },
   "outputs": [
    {
     "name": "stdout",
     "output_type": "stream",
     "text": [
      "An object of the Polygon class\n",
      "\t Num edges: 5\n",
      "\t Num vertices: 5\n",
      "\t Interior angle: 108.0\n",
      "\t Edge length: 11.755705045849464\n",
      "\t Apothem: 8.090169943749475\n",
      "\t Area: 237.76412907378844\n",
      "\t Perimeter: 58.77852522924732\n"
     ]
    }
   ],
   "source": [
    "from polygon import Polygon\n",
    "\n",
    "p1 = Polygon(num_edges=5, circum_radius=10)\n",
    "print(p1.__repr__())"
   ]
  },
  {
   "cell_type": "markdown",
   "metadata": {},
   "source": [
    "Test the __eq__"
   ]
  },
  {
   "cell_type": "code",
   "execution_count": 2,
   "metadata": {},
   "outputs": [
    {
     "name": "stdout",
     "output_type": "stream",
     "text": [
      "True\n",
      "False\n"
     ]
    }
   ],
   "source": [
    "p2 = Polygon(num_edges=5, circum_radius=10)\n",
    "p3 = Polygon(num_edges=5, circum_radius=5)\n",
    "\n",
    "print(p1 == p2)\n",
    "print(p1 == p3)"
   ]
  },
  {
   "cell_type": "markdown",
   "metadata": {},
   "source": [
    "Test the __gt__"
   ]
  },
  {
   "cell_type": "code",
   "execution_count": 3,
   "metadata": {
    "pycharm": {
     "name": "#%%\n"
    }
   },
   "outputs": [
    {
     "name": "stdout",
     "output_type": "stream",
     "text": [
      "False\n",
      "True\n"
     ]
    }
   ],
   "source": [
    "p4 = Polygon(num_edges=10, circum_radius=2)\n",
    "print(p1 > p4)\n",
    "print(p1 < p4)\n"
   ]
  },
  {
   "cell_type": "code",
   "execution_count": 4,
   "metadata": {},
   "outputs": [],
   "source": [
    "from polygons_sequence import PolygonSequence\n",
    "\n",
    "p_seq = PolygonSequence(max_verties=25, circum_radius=10)"
   ]
  },
  {
   "cell_type": "code",
   "execution_count": 5,
   "metadata": {},
   "outputs": [
    {
     "data": {
      "text/plain": [
       "A sequence of element of Polygon class\n",
       "\t Num elements: 23\n",
       "\t Radius: 10"
      ]
     },
     "execution_count": 5,
     "metadata": {},
     "output_type": "execute_result"
    }
   ],
   "source": [
    "p_seq"
   ]
  },
  {
   "cell_type": "code",
   "execution_count": 6,
   "metadata": {},
   "outputs": [
    {
     "data": {
      "text/plain": [
       "23"
      ]
     },
     "execution_count": 6,
     "metadata": {},
     "output_type": "execute_result"
    }
   ],
   "source": [
    "len(p_seq)"
   ]
  },
  {
   "cell_type": "code",
   "execution_count": 7,
   "metadata": {},
   "outputs": [
    {
     "data": {
      "text/plain": [
       "An object of the Polygon class\n",
       "\t Num edges: 3\n",
       "\t Num vertices: 3\n",
       "\t Interior angle: 60.0\n",
       "\t Edge length: 17.32050807568877\n",
       "\t Apothem: 5.000000000000001\n",
       "\t Area: 129.9038105676658\n",
       "\t Perimeter: 51.96152422706631"
      ]
     },
     "execution_count": 7,
     "metadata": {},
     "output_type": "execute_result"
    }
   ],
   "source": [
    "p_seq[0]"
   ]
  },
  {
   "cell_type": "code",
   "execution_count": 8,
   "metadata": {},
   "outputs": [
    {
     "data": {
      "text/plain": [
       "An object of the Polygon class\n",
       "\t Num edges: 25\n",
       "\t Num vertices: 25\n",
       "\t Interior angle: 165.6\n",
       "\t Edge length: 2.506664671286085\n",
       "\t Apothem: 9.921147013144779\n",
       "\t Area: 310.86235895606853\n",
       "\t Perimeter: 62.66661678215213"
      ]
     },
     "execution_count": 8,
     "metadata": {},
     "output_type": "execute_result"
    }
   ],
   "source": [
    "p_seq[-1]"
   ]
  },
  {
   "cell_type": "code",
   "execution_count": 9,
   "metadata": {},
   "outputs": [
    {
     "data": {
      "text/plain": [
       "An object of the Polygon class\n",
       "\t Num edges: 25\n",
       "\t Num vertices: 25\n",
       "\t Interior angle: 165.6\n",
       "\t Edge length: 2.506664671286085\n",
       "\t Apothem: 9.921147013144779\n",
       "\t Area: 310.86235895606853\n",
       "\t Perimeter: 62.66661678215213"
      ]
     },
     "execution_count": 9,
     "metadata": {},
     "output_type": "execute_result"
    }
   ],
   "source": [
    "p_seq.max_efficiency_polygon()"
   ]
  },
  {
   "cell_type": "code",
   "execution_count": null,
   "metadata": {},
   "outputs": [],
   "source": []
  }
 ],
 "metadata": {
  "kernelspec": {
   "display_name": "Python 3",
   "language": "python",
   "name": "python3"
  },
  "language_info": {
   "codemirror_mode": {
    "name": "ipython",
    "version": 3
   },
   "file_extension": ".py",
   "mimetype": "text/x-python",
   "name": "python",
   "nbconvert_exporter": "python",
   "pygments_lexer": "ipython3",
   "version": "3.7.4"
  },
  "pycharm": {
   "stem_cell": {
    "cell_type": "raw",
    "metadata": {
     "collapsed": false
    },
    "source": []
   }
  }
 },
 "nbformat": 4,
 "nbformat_minor": 1
}
